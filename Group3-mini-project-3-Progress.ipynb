{
 "metadata": {
  "kernelspec": {
   "language": "python",
   "display_name": "Python 3",
   "name": "python3"
  },
  "language_info": {
   "name": "python",
   "version": "3.8.17",
   "mimetype": "text/x-python",
   "codemirror_mode": {
    "name": "ipython",
    "version": 3
   },
   "pygments_lexer": "ipython3",
   "nbconvert_exporter": "python",
   "file_extension": ".py"
  }
 },
 "nbformat_minor": 4,
 "nbformat": 4,
 "cells": [
  {
   "cell_type": "code",
   "source": [
    "# This Python 3 environment comes with many helpful analytics libraries installed\n",
    "# It is defined by the kaggle/python Docker image: https://github.com/kaggle/docker-python\n",
    "# For example, here's several helpful packages to load\n",
    "\n",
    "import numpy as np # linear algebra\n",
    "import pandas as pd # data processing, CSV file I/O (e.g. pd.read_csv)\n",
    "\n",
    "# Input data files are available in the read-only \"../input/\" directory\n",
    "# For example, running this (by clicking run or pressing Shift+Enter) will list all files under the input directory\n",
    "\n",
    "import os\n",
    "for dirname, _, filenames in os.walk('/kaggle/input'):\n",
    "    for filename in filenames:\n",
    "        print(os.path.join(dirname, filename))"
   ],
   "metadata": {
    "_uuid": "8f2839f25d086af736a60e9eeb907d3b93b6e0e5",
    "_cell_guid": "b1076dfc-b9ad-4769-8c92-a6c4dae69d19",
    "execution": {
     "iopub.status.busy": "2023-09-03T14:17:44.515365Z",
     "iopub.execute_input": "2023-09-03T14:17:44.516079Z",
     "iopub.status.idle": "2023-09-03T14:17:44.945457Z",
     "shell.execute_reply.started": "2023-09-03T14:17:44.516042Z",
     "shell.execute_reply": "2023-09-03T14:17:44.944530Z"
    },
    "trusted": true
   },
   "execution_count": 1,
   "outputs": [
    {
     "name": "stdout",
     "text": "/kaggle/input/hotel-reservations-classification-dataset/Hotel Reservations.csv\n/kaggle/input/dataset/testset.csv\n/kaggle/input/dataset/trainset.csv\n",
     "output_type": "stream"
    }
   ]
  },
  {
   "cell_type": "code",
   "source": [
    "data = pd.read_csv('/kaggle/input/hotel-reservations-classification-dataset/Hotel Reservations.csv')\n",
    "\n",
    "# Get the number of rows and columns in the DataFrame\n",
    "num_rows, num_columns = data.shape\n",
    "\n",
    "# Print the number of rows\n",
    "print(\"Number of rows:\", num_rows)"
   ],
   "metadata": {
    "execution": {
     "iopub.status.busy": "2023-09-03T14:17:44.947069Z",
     "iopub.execute_input": "2023-09-03T14:17:44.947428Z",
     "iopub.status.idle": "2023-09-03T14:17:45.080045Z",
     "shell.execute_reply.started": "2023-09-03T14:17:44.947403Z",
     "shell.execute_reply": "2023-09-03T14:17:45.079236Z"
    },
    "trusted": true
   },
   "execution_count": 2,
   "outputs": [
    {
     "name": "stdout",
     "text": "Number of rows: 36275\n",
     "output_type": "stream"
    }
   ]
  },
  {
   "cell_type": "code",
   "source": [
    "# Load the data\n",
    "train_set = pd.read_csv('/kaggle/input/dataset/trainset.csv')\n",
    "test_set = pd.read_csv('/kaggle/input/dataset/testset.csv')"
   ],
   "metadata": {
    "execution": {
     "iopub.status.busy": "2023-09-03T14:17:45.081116Z",
     "iopub.execute_input": "2023-09-03T14:17:45.081417Z",
     "iopub.status.idle": "2023-09-03T14:17:45.212687Z",
     "shell.execute_reply.started": "2023-09-03T14:17:45.081391Z",
     "shell.execute_reply": "2023-09-03T14:17:45.211834Z"
    },
    "trusted": true
   },
   "execution_count": 3,
   "outputs": []
  },
  {
   "cell_type": "code",
   "source": [
    "# Check for missing values in the train dataset\n",
    "train_missing = train_set.isnull().sum()\n",
    "\n",
    "# Check for missing values in the test dataset\n",
    "test_missing = test_set.isnull().sum()\n",
    "\n",
    "print(\"Missing Values in Train Dataset:\")\n",
    "print(train_missing)\n",
    "\n",
    "print(\"\\nMissing Values in Test Dataset:\")\n",
    "print(test_missing)"
   ],
   "metadata": {
    "execution": {
     "iopub.status.busy": "2023-09-03T14:17:45.214873Z",
     "iopub.execute_input": "2023-09-03T14:17:45.215186Z",
     "iopub.status.idle": "2023-09-03T14:17:45.232764Z",
     "shell.execute_reply.started": "2023-09-03T14:17:45.215158Z",
     "shell.execute_reply": "2023-09-03T14:17:45.231926Z"
    },
    "trusted": true
   },
   "execution_count": 4,
   "outputs": [
    {
     "name": "stdout",
     "text": "Missing Values in Train Dataset:\nBooking_ID                              0\nno_of_adults                            0\nno_of_children                          0\nno_of_weekend_nights                    0\nno_of_week_nights                       0\ntype_of_meal_plan                       0\nrequired_car_parking_space              0\nroom_type_reserved                      0\nlead_time                               0\narrival_year                            0\narrival_month                           0\narrival_date                            0\nmarket_segment_type                     0\nrepeated_guest                          0\nno_of_previous_cancellations            0\nno_of_previous_bookings_not_canceled    0\navg_price_per_room                      0\nno_of_special_requests                  0\nbooking_status                          0\ndtype: int64\n\nMissing Values in Test Dataset:\nBooking_ID                              0\nno_of_adults                            0\nno_of_children                          0\nno_of_weekend_nights                    0\nno_of_week_nights                       0\ntype_of_meal_plan                       0\nrequired_car_parking_space              0\nroom_type_reserved                      0\nlead_time                               0\narrival_year                            0\narrival_month                           0\narrival_date                            0\nmarket_segment_type                     0\nrepeated_guest                          0\nno_of_previous_cancellations            0\nno_of_previous_bookings_not_canceled    0\navg_price_per_room                      0\nno_of_special_requests                  0\nbooking_status                          0\ndtype: int64\n",
     "output_type": "stream"
    }
   ]
  },
  {
   "cell_type": "markdown",
   "source": [
    "# **Models**"
   ],
   "metadata": {}
  },
  {
   "cell_type": "code",
   "source": [
    "# Assume 'booking_status' is the target variable\n",
    "target_col = 'booking_status'\n",
    "\n",
    "train_data = train_set\n",
    "test_data = test_set\n",
    "# Drop the target variable from the train dataset and store it as the target variable\n",
    "X_train = train_data.drop(columns=[target_col])\n",
    "y_train = train_data[target_col]\n",
    "\n",
    "# Drop the target variable from the test dataset and store it as the target variable\n",
    "X_test = test_data.drop(columns=[target_col])\n",
    "y_test = test_data[target_col]\n",
    "\n",
    "# Convert categorical features to numerical using one-hot encoding\n",
    "X_train_encoded = pd.get_dummies(X_train, drop_first=True)\n",
    "X_test_encoded = pd.get_dummies(X_test, drop_first=True)\n",
    "\n",
    "# Align test dataset columns with train dataset columns\n",
    "X_test_encoded = X_test_encoded.reindex(columns=X_train_encoded.columns, fill_value=0)"
   ],
   "metadata": {
    "execution": {
     "iopub.status.busy": "2023-09-03T14:17:45.233956Z",
     "iopub.execute_input": "2023-09-03T14:17:45.234276Z",
     "iopub.status.idle": "2023-09-03T14:17:51.983978Z",
     "shell.execute_reply.started": "2023-09-03T14:17:45.234246Z",
     "shell.execute_reply": "2023-09-03T14:17:51.983040Z"
    },
    "trusted": true
   },
   "execution_count": 5,
   "outputs": []
  },
  {
   "cell_type": "code",
   "execution_count": 7,
   "outputs": [],
   "source": [
    "from sklearn.naive_bayes import GaussianNB\n",
    "from sklearn.ensemble import RandomForestClassifier\n",
    "from sklearn.neural_network import MLPClassifier\n",
    "from sklearn.tree import DecisionTreeClassifier\n",
    "from sklearn.svm import SVC\n",
    "from sklearn.neural_network import MLPClassifier\n",
    "from sklearn.metrics import accuracy_score, precision_score, recall_score, f1_score\n"
   ],
   "metadata": {
    "collapsed": false
   }
  },
  {
   "cell_type": "code",
   "source": [
    "# Initialize and train the Decision Tree Classifier\n",
    "decision_tree_model = DecisionTreeClassifier(random_state=3)\n",
    "decision_tree_model.fit(X_train_encoded, y_train)\n",
    "\n",
    "# Predict on the test dataset for each model\n",
    "y_pred_decision_tree = decision_tree_model.predict(X_test_encoded)\n",
    "\n",
    "# Calculate evaluation metrics for each model\n",
    "accuracy_decision_tree = accuracy_score(y_test, y_pred_decision_tree)\n",
    "precision_decision_tree = precision_score(y_test, y_pred_decision_tree, average='binary', pos_label='Canceled')\n",
    "recall_decision_tree = recall_score(y_test, y_pred_decision_tree, average='binary', pos_label='Canceled')\n",
    "f1_decision_tree = f1_score(y_test, y_pred_decision_tree, average='binary', pos_label='Canceled')\n",
    "\n",
    "# Print evaluation metrics for each model\n",
    "print(\"Decision Tree:\")\n",
    "print(\"Accuracy:\", accuracy_decision_tree)\n",
    "print(\"Precision:\", precision_decision_tree)\n",
    "print(\"Recall:\", recall_decision_tree)\n",
    "print(\"F1 Score:\", f1_decision_tree)\n",
    "print(\"---------------------\")\n"
   ],
   "metadata": {
    "execution": {
     "iopub.status.busy": "2023-09-03T14:17:52.970180Z",
     "iopub.execute_input": "2023-09-03T14:17:52.970564Z",
     "iopub.status.idle": "2023-09-03T14:18:13.891585Z",
     "shell.execute_reply.started": "2023-09-03T14:17:52.970531Z",
     "shell.execute_reply": "2023-09-03T14:18:13.890731Z"
    },
    "trusted": true
   },
   "execution_count": 8,
   "outputs": [
    {
     "name": "stdout",
     "text": "Decision Tree:\nAccuracy: 0.8828232699200441\nPrecision: 0.8425266903914591\nRecall: 0.792468619246862\nF1 Score: 0.8167313497197067\n---------------------\n",
     "output_type": "stream"
    }
   ]
  },
  {
   "cell_type": "code",
   "source": [
    "# Initialize and train the Naive Bayes Classifier\n",
    "naive_bayes_model = GaussianNB()\n",
    "naive_bayes_model.fit(X_train_encoded, y_train)\n",
    "\n",
    "# Predict on the test dataset for each model\n",
    "y_pred_naive_bayes = naive_bayes_model.predict(X_test_encoded)\n",
    "\n",
    "# Calculate evaluation metrics for each model\n",
    "accuracy_naive_bayes = accuracy_score(y_test, y_pred_naive_bayes)\n",
    "precision_naive_bayes = precision_score(y_test, y_pred_naive_bayes, average='binary', pos_label='Canceled')\n",
    "recall_naive_bayes = recall_score(y_test, y_pred_naive_bayes, average='binary', pos_label='Canceled')\n",
    "f1_naive_bayes = f1_score(y_test, y_pred_naive_bayes, average='binary', pos_label='Canceled')\n",
    "\n",
    "# Print evaluation metrics for each model\n",
    "print(\"Naive Bayes:\")\n",
    "print(\"Accuracy:\", accuracy_naive_bayes)\n",
    "print(\"Precision:\", precision_naive_bayes)\n",
    "print(\"Recall:\", recall_naive_bayes)\n",
    "print(\"F1 Score:\", f1_naive_bayes)\n",
    "print(\"---------------------\")\n"
   ],
   "metadata": {
    "execution": {
     "iopub.status.busy": "2023-09-03T14:19:09.029716Z",
     "iopub.execute_input": "2023-09-03T14:19:09.030093Z",
     "iopub.status.idle": "2023-09-03T14:19:39.559814Z",
     "shell.execute_reply.started": "2023-09-03T14:19:09.030064Z",
     "shell.execute_reply": "2023-09-03T14:19:39.558726Z"
    },
    "trusted": true
   },
   "execution_count": 9,
   "outputs": [
    {
     "name": "stdout",
     "text": "Naive Bayes:\nAccuracy: 0.3416046319272126\nPrecision: 0.33351939715322354\nRecall: 1.0\nF1 Score: 0.5002092925910423\n---------------------\n",
     "output_type": "stream"
    }
   ]
  },
  {
   "cell_type": "code",
   "source": [
    "# Initialize and train the Random Forest Classifier\n",
    "random_forest_model = RandomForestClassifier(random_state=3)\n",
    "random_forest_model.fit(X_train_encoded, y_train)\n",
    "\n",
    "# Predict on the test dataset for each model\n",
    "y_pred_random_forest = random_forest_model.predict(X_test_encoded)\n",
    "\n",
    "# Calculate evaluation metrics for each model\n",
    "accuracy_random_forest = accuracy_score(y_test, y_pred_random_forest)\n",
    "precision_random_forest = precision_score(y_test, y_pred_random_forest, average='binary', pos_label='Canceled')\n",
    "recall_random_forest = recall_score(y_test, y_pred_random_forest, average='binary', pos_label='Canceled')\n",
    "f1_random_forest = f1_score(y_test, y_pred_random_forest, average='binary', pos_label='Canceled')\n",
    "\n",
    "# Print evaluation metrics for each model\n",
    "print(\"Random Forest:\")\n",
    "print(\"Accuracy:\", accuracy_random_forest)\n",
    "print(\"Precision:\", precision_random_forest)\n",
    "print(\"Recall:\", recall_random_forest)\n",
    "print(\"F1 Score:\", f1_random_forest)\n",
    "print(\"---------------------\")\n"
   ],
   "metadata": {
    "execution": {
     "iopub.status.busy": "2023-09-03T14:20:03.079739Z",
     "iopub.execute_input": "2023-09-03T14:20:03.080624Z",
     "iopub.status.idle": "2023-09-03T14:27:10.505494Z",
     "shell.execute_reply.started": "2023-09-03T14:20:03.080588Z",
     "shell.execute_reply": "2023-09-03T14:27:10.504539Z"
    },
    "trusted": true
   },
   "execution_count": 10,
   "outputs": [
    {
     "name": "stdout",
     "text": "Random Forest:\nAccuracy: 0.890818858560794\nPrecision: 0.880838894184938\nRecall: 0.7732217573221757\nF1 Score: 0.8235294117647058\n---------------------\n",
     "output_type": "stream"
    }
   ]
  },
  {
   "cell_type": "code",
   "source": [
    "# Initialize and train the Support Vector Machine (SVM) Classifier\n",
    "svm_model = SVC(random_state=3)\n",
    "svm_model.fit(X_train_encoded, y_train)\n",
    "\n",
    "# Predict on the test dataset for each model\n",
    "y_pred_svm = svm_model.predict(X_test_encoded)  \n",
    "\n",
    "# Calculate evaluation metrics for each model\n",
    "accuracy_svm = accuracy_score(y_test, y_pred_svm)  \n",
    "precision_svm = precision_score(y_test, y_pred_svm, average='binary', pos_label='Canceled') \n",
    "recall_svm = recall_score(y_test, y_pred_svm, average='binary', pos_label='Canceled')  \n",
    "f1_svm = f1_score(y_test, y_pred_svm, average='binary', pos_label='Canceled')  \n",
    "\n",
    "# Print evaluation metrics for each model\n",
    "print(\"Support Vector Machine (SVM):\")\n",
    "print(\"Accuracy:\", accuracy_svm)\n",
    "print(\"Precision:\", precision_svm)\n",
    "print(\"Recall:\", recall_svm)\n",
    "print(\"F1 Score:\", f1_svm)\n",
    "print(\"---------------------\")\n"
   ],
   "metadata": {
    "execution": {
     "iopub.status.busy": "2023-09-03T14:27:32.326007Z",
     "iopub.execute_input": "2023-09-03T14:27:32.326939Z"
    },
    "trusted": true
   },
   "execution_count": null,
   "outputs": []
  },
  {
   "cell_type": "code",
   "source": [
    "# Initialize and train the Neural Network (MLP) Classifier\n",
    "neural_network_model = MLPClassifier(random_state=3)\n",
    "neural_network_model.fit(X_train_encoded, y_train)\n",
    "\n",
    "# Predict on the test dataset for the neural network model\n",
    "y_pred_neural_network = neural_network_model.predict(X_test_encoded)\n",
    "\n",
    "# Calculate evaluation metrics for the neural network model\n",
    "accuracy_neural_network = accuracy_score(y_test, y_pred_neural_network)\n",
    "precision_neural_network = precision_score(y_test, y_pred_neural_network, average='binary', pos_label='Canceled')\n",
    "recall_neural_network = recall_score(y_test, y_pred_neural_network, average='binary', pos_label='Canceled')\n",
    "f1_neural_network = f1_score(y_test, y_pred_neural_network, average='binary', pos_label='Canceled')\n",
    "\n",
    "# Print evaluation metrics for the neural network model\n",
    "print(\"Neural Network (MLP):\")\n",
    "print(\"Accuracy:\", accuracy_neural_network)\n",
    "print(\"Precision:\", precision_neural_network)\n",
    "print(\"Recall:\", recall_neural_network)\n",
    "print(\"F1 Score:\", f1_neural_network)\n",
    "print(\"---------------------\")"
   ],
   "metadata": {},
   "execution_count": null,
   "outputs": []
  }
 ]
}
